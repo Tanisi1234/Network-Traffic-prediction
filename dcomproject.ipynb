{
  "cells": [
    {
      "cell_type": "code",
      "execution_count": null,
      "metadata": {
        "colab": {
          "base_uri": "https://localhost:8080/"
        },
        "collapsed": true,
        "id": "PtrV1HImBltx",
        "outputId": "17fd81b0-d5db-40e2-e59d-5bcb5d443fe9"
      },
      "outputs": [
        {
          "name": "stdout",
          "output_type": "stream",
          "text": [
            "Requirement already satisfied: numpy in /usr/local/lib/python3.10/dist-packages (1.26.4)\n",
            "Requirement already satisfied: pandas in /usr/local/lib/python3.10/dist-packages (2.2.2)\n",
            "Requirement already satisfied: matplotlib in /usr/local/lib/python3.10/dist-packages (3.7.1)\n",
            "Requirement already satisfied: scikit-learn in /usr/local/lib/python3.10/dist-packages (1.5.2)\n",
            "Requirement already satisfied: tensorflow in /usr/local/lib/python3.10/dist-packages (2.17.0)\n",
            "Requirement already satisfied: python-dateutil>=2.8.2 in /usr/local/lib/python3.10/dist-packages (from pandas) (2.8.2)\n",
            "Requirement already satisfied: pytz>=2020.1 in /usr/local/lib/python3.10/dist-packages (from pandas) (2024.2)\n",
            "Requirement already satisfied: tzdata>=2022.7 in /usr/local/lib/python3.10/dist-packages (from pandas) (2024.2)\n",
            "Requirement already satisfied: contourpy>=1.0.1 in /usr/local/lib/python3.10/dist-packages (from matplotlib) (1.3.0)\n",
            "Requirement already satisfied: cycler>=0.10 in /usr/local/lib/python3.10/dist-packages (from matplotlib) (0.12.1)\n",
            "Requirement already satisfied: fonttools>=4.22.0 in /usr/local/lib/python3.10/dist-packages (from matplotlib) (4.54.1)\n",
            "Requirement already satisfied: kiwisolver>=1.0.1 in /usr/local/lib/python3.10/dist-packages (from matplotlib) (1.4.7)\n",
            "Requirement already satisfied: packaging>=20.0 in /usr/local/lib/python3.10/dist-packages (from matplotlib) (24.1)\n",
            "Requirement already satisfied: pillow>=6.2.0 in /usr/local/lib/python3.10/dist-packages (from matplotlib) (10.4.0)\n",
            "Requirement already satisfied: pyparsing>=2.3.1 in /usr/local/lib/python3.10/dist-packages (from matplotlib) (3.1.4)\n",
            "Requirement already satisfied: scipy>=1.6.0 in /usr/local/lib/python3.10/dist-packages (from scikit-learn) (1.13.1)\n",
            "Requirement already satisfied: joblib>=1.2.0 in /usr/local/lib/python3.10/dist-packages (from scikit-learn) (1.4.2)\n",
            "Requirement already satisfied: threadpoolctl>=3.1.0 in /usr/local/lib/python3.10/dist-packages (from scikit-learn) (3.5.0)\n",
            "Requirement already satisfied: absl-py>=1.0.0 in /usr/local/lib/python3.10/dist-packages (from tensorflow) (1.4.0)\n",
            "Requirement already satisfied: astunparse>=1.6.0 in /usr/local/lib/python3.10/dist-packages (from tensorflow) (1.6.3)\n",
            "Requirement already satisfied: flatbuffers>=24.3.25 in /usr/local/lib/python3.10/dist-packages (from tensorflow) (24.3.25)\n",
            "Requirement already satisfied: gast!=0.5.0,!=0.5.1,!=0.5.2,>=0.2.1 in /usr/local/lib/python3.10/dist-packages (from tensorflow) (0.6.0)\n",
            "Requirement already satisfied: google-pasta>=0.1.1 in /usr/local/lib/python3.10/dist-packages (from tensorflow) (0.2.0)\n",
            "Requirement already satisfied: h5py>=3.10.0 in /usr/local/lib/python3.10/dist-packages (from tensorflow) (3.11.0)\n",
            "Requirement already satisfied: libclang>=13.0.0 in /usr/local/lib/python3.10/dist-packages (from tensorflow) (18.1.1)\n",
            "Requirement already satisfied: ml-dtypes<0.5.0,>=0.3.1 in /usr/local/lib/python3.10/dist-packages (from tensorflow) (0.4.1)\n",
            "Requirement already satisfied: opt-einsum>=2.3.2 in /usr/local/lib/python3.10/dist-packages (from tensorflow) (3.4.0)\n",
            "Requirement already satisfied: protobuf!=4.21.0,!=4.21.1,!=4.21.2,!=4.21.3,!=4.21.4,!=4.21.5,<5.0.0dev,>=3.20.3 in /usr/local/lib/python3.10/dist-packages (from tensorflow) (3.20.3)\n",
            "Requirement already satisfied: requests<3,>=2.21.0 in /usr/local/lib/python3.10/dist-packages (from tensorflow) (2.32.3)\n",
            "Requirement already satisfied: setuptools in /usr/local/lib/python3.10/dist-packages (from tensorflow) (71.0.4)\n",
            "Requirement already satisfied: six>=1.12.0 in /usr/local/lib/python3.10/dist-packages (from tensorflow) (1.16.0)\n",
            "Requirement already satisfied: termcolor>=1.1.0 in /usr/local/lib/python3.10/dist-packages (from tensorflow) (2.5.0)\n",
            "Requirement already satisfied: typing-extensions>=3.6.6 in /usr/local/lib/python3.10/dist-packages (from tensorflow) (4.12.2)\n",
            "Requirement already satisfied: wrapt>=1.11.0 in /usr/local/lib/python3.10/dist-packages (from tensorflow) (1.16.0)\n",
            "Requirement already satisfied: grpcio<2.0,>=1.24.3 in /usr/local/lib/python3.10/dist-packages (from tensorflow) (1.64.1)\n",
            "Requirement already satisfied: tensorboard<2.18,>=2.17 in /usr/local/lib/python3.10/dist-packages (from tensorflow) (2.17.0)\n",
            "Requirement already satisfied: keras>=3.2.0 in /usr/local/lib/python3.10/dist-packages (from tensorflow) (3.4.1)\n",
            "Requirement already satisfied: tensorflow-io-gcs-filesystem>=0.23.1 in /usr/local/lib/python3.10/dist-packages (from tensorflow) (0.37.1)\n",
            "Requirement already satisfied: wheel<1.0,>=0.23.0 in /usr/local/lib/python3.10/dist-packages (from astunparse>=1.6.0->tensorflow) (0.44.0)\n",
            "Requirement already satisfied: rich in /usr/local/lib/python3.10/dist-packages (from keras>=3.2.0->tensorflow) (13.9.2)\n",
            "Requirement already satisfied: namex in /usr/local/lib/python3.10/dist-packages (from keras>=3.2.0->tensorflow) (0.0.8)\n",
            "Requirement already satisfied: optree in /usr/local/lib/python3.10/dist-packages (from keras>=3.2.0->tensorflow) (0.13.0)\n",
            "Requirement already satisfied: charset-normalizer<4,>=2 in /usr/local/lib/python3.10/dist-packages (from requests<3,>=2.21.0->tensorflow) (3.4.0)\n",
            "Requirement already satisfied: idna<4,>=2.5 in /usr/local/lib/python3.10/dist-packages (from requests<3,>=2.21.0->tensorflow) (3.10)\n",
            "Requirement already satisfied: urllib3<3,>=1.21.1 in /usr/local/lib/python3.10/dist-packages (from requests<3,>=2.21.0->tensorflow) (2.2.3)\n",
            "Requirement already satisfied: certifi>=2017.4.17 in /usr/local/lib/python3.10/dist-packages (from requests<3,>=2.21.0->tensorflow) (2024.8.30)\n",
            "Requirement already satisfied: markdown>=2.6.8 in /usr/local/lib/python3.10/dist-packages (from tensorboard<2.18,>=2.17->tensorflow) (3.7)\n",
            "Requirement already satisfied: tensorboard-data-server<0.8.0,>=0.7.0 in /usr/local/lib/python3.10/dist-packages (from tensorboard<2.18,>=2.17->tensorflow) (0.7.2)\n",
            "Requirement already satisfied: werkzeug>=1.0.1 in /usr/local/lib/python3.10/dist-packages (from tensorboard<2.18,>=2.17->tensorflow) (3.0.4)\n",
            "Requirement already satisfied: MarkupSafe>=2.1.1 in /usr/local/lib/python3.10/dist-packages (from werkzeug>=1.0.1->tensorboard<2.18,>=2.17->tensorflow) (3.0.1)\n",
            "Requirement already satisfied: markdown-it-py>=2.2.0 in /usr/local/lib/python3.10/dist-packages (from rich->keras>=3.2.0->tensorflow) (3.0.0)\n",
            "Requirement already satisfied: pygments<3.0.0,>=2.13.0 in /usr/local/lib/python3.10/dist-packages (from rich->keras>=3.2.0->tensorflow) (2.18.0)\n",
            "Requirement already satisfied: mdurl~=0.1 in /usr/local/lib/python3.10/dist-packages (from markdown-it-py>=2.2.0->rich->keras>=3.2.0->tensorflow) (0.1.2)\n"
          ]
        }
      ],
      "source": [
        "!pip install numpy pandas matplotlib scikit-learn tensorflow\n"
      ]
    },
    {
      "cell_type": "code",
      "execution_count": null,
      "metadata": {
        "id": "eD8ESGjaCw2_"
      },
      "outputs": [],
      "source": [
        "def read_data (path = '/content/fdata_Timestep_60 (2).txt'):\n",
        "    with open(path) as f:\n",
        "        lines = f.read().splitlines()\n",
        "    series = np.array(list(map(int, lines)))\n",
        "    return series\n"
      ]
    },
    {
      "cell_type": "code",
      "execution_count": null,
      "metadata": {
        "colab": {
          "base_uri": "https://localhost:8080/",
          "height": 378
        },
        "id": "5-CIro-fDRCT",
        "outputId": "b87cb2c7-5aeb-41d5-87e5-81657c917705"
      },
      "outputs": [
        {
          "name": "stderr",
          "output_type": "stream",
          "text": [
            "/usr/local/lib/python3.10/dist-packages/keras/src/layers/rnn/rnn.py:204: UserWarning: Do not pass an `input_shape`/`input_dim` argument to a layer. When using Sequential models, prefer using an `Input(shape)` object as the first layer in the model instead.\n",
            "  super().__init__(**kwargs)\n"
          ]
        },
        {
          "data": {
            "text/html": [
              "<pre style=\"white-space:pre;overflow-x:auto;line-height:normal;font-family:Menlo,'DejaVu Sans Mono',consolas,'Courier New',monospace\"><span style=\"font-weight: bold\">Model: \"sequential\"</span>\n",
              "</pre>\n"
            ],
            "text/plain": [
              "\u001b[1mModel: \"sequential\"\u001b[0m\n"
            ]
          },
          "metadata": {},
          "output_type": "display_data"
        },
        {
          "data": {
            "text/html": [
              "<pre style=\"white-space:pre;overflow-x:auto;line-height:normal;font-family:Menlo,'DejaVu Sans Mono',consolas,'Courier New',monospace\">┏━━━━━━━━━━━━━━━━━━━━━━━━━━━━━━━━━━━━━━┳━━━━━━━━━━━━━━━━━━━━━━━━━━━━━┳━━━━━━━━━━━━━━━━━┓\n",
              "┃<span style=\"font-weight: bold\"> Layer (type)                         </span>┃<span style=\"font-weight: bold\"> Output Shape                </span>┃<span style=\"font-weight: bold\">         Param # </span>┃\n",
              "┡━━━━━━━━━━━━━━━━━━━━━━━━━━━━━━━━━━━━━━╇━━━━━━━━━━━━━━━━━━━━━━━━━━━━━╇━━━━━━━━━━━━━━━━━┩\n",
              "│ gru (<span style=\"color: #0087ff; text-decoration-color: #0087ff\">GRU</span>)                            │ (<span style=\"color: #00d7ff; text-decoration-color: #00d7ff\">None</span>, <span style=\"color: #00af00; text-decoration-color: #00af00\">16</span>)                  │             <span style=\"color: #00af00; text-decoration-color: #00af00\">912</span> │\n",
              "├──────────────────────────────────────┼─────────────────────────────┼─────────────────┤\n",
              "│ repeat_vector (<span style=\"color: #0087ff; text-decoration-color: #0087ff\">RepeatVector</span>)         │ (<span style=\"color: #00d7ff; text-decoration-color: #00d7ff\">None</span>, <span style=\"color: #00af00; text-decoration-color: #00af00\">1</span>, <span style=\"color: #00af00; text-decoration-color: #00af00\">16</span>)               │               <span style=\"color: #00af00; text-decoration-color: #00af00\">0</span> │\n",
              "├──────────────────────────────────────┼─────────────────────────────┼─────────────────┤\n",
              "│ gru_1 (<span style=\"color: #0087ff; text-decoration-color: #0087ff\">GRU</span>)                          │ (<span style=\"color: #00d7ff; text-decoration-color: #00d7ff\">None</span>, <span style=\"color: #00af00; text-decoration-color: #00af00\">1</span>, <span style=\"color: #00af00; text-decoration-color: #00af00\">8</span>)                │             <span style=\"color: #00af00; text-decoration-color: #00af00\">624</span> │\n",
              "├──────────────────────────────────────┼─────────────────────────────┼─────────────────┤\n",
              "│ gru_2 (<span style=\"color: #0087ff; text-decoration-color: #0087ff\">GRU</span>)                          │ (<span style=\"color: #00d7ff; text-decoration-color: #00d7ff\">None</span>, <span style=\"color: #00af00; text-decoration-color: #00af00\">1</span>, <span style=\"color: #00af00; text-decoration-color: #00af00\">8</span>)                │             <span style=\"color: #00af00; text-decoration-color: #00af00\">432</span> │\n",
              "├──────────────────────────────────────┼─────────────────────────────┼─────────────────┤\n",
              "│ time_distributed (<span style=\"color: #0087ff; text-decoration-color: #0087ff\">TimeDistributed</span>)   │ (<span style=\"color: #00d7ff; text-decoration-color: #00d7ff\">None</span>, <span style=\"color: #00af00; text-decoration-color: #00af00\">1</span>, <span style=\"color: #00af00; text-decoration-color: #00af00\">1</span>)                │               <span style=\"color: #00af00; text-decoration-color: #00af00\">9</span> │\n",
              "└──────────────────────────────────────┴─────────────────────────────┴─────────────────┘\n",
              "</pre>\n"
            ],
            "text/plain": [
              "┏━━━━━━━━━━━━━━━━━━━━━━━━━━━━━━━━━━━━━━┳━━━━━━━━━━━━━━━━━━━━━━━━━━━━━┳━━━━━━━━━━━━━━━━━┓\n",
              "┃\u001b[1m \u001b[0m\u001b[1mLayer (type)                        \u001b[0m\u001b[1m \u001b[0m┃\u001b[1m \u001b[0m\u001b[1mOutput Shape               \u001b[0m\u001b[1m \u001b[0m┃\u001b[1m \u001b[0m\u001b[1m        Param #\u001b[0m\u001b[1m \u001b[0m┃\n",
              "┡━━━━━━━━━━━━━━━━━━━━━━━━━━━━━━━━━━━━━━╇━━━━━━━━━━━━━━━━━━━━━━━━━━━━━╇━━━━━━━━━━━━━━━━━┩\n",
              "│ gru (\u001b[38;5;33mGRU\u001b[0m)                            │ (\u001b[38;5;45mNone\u001b[0m, \u001b[38;5;34m16\u001b[0m)                  │             \u001b[38;5;34m912\u001b[0m │\n",
              "├──────────────────────────────────────┼─────────────────────────────┼─────────────────┤\n",
              "│ repeat_vector (\u001b[38;5;33mRepeatVector\u001b[0m)         │ (\u001b[38;5;45mNone\u001b[0m, \u001b[38;5;34m1\u001b[0m, \u001b[38;5;34m16\u001b[0m)               │               \u001b[38;5;34m0\u001b[0m │\n",
              "├──────────────────────────────────────┼─────────────────────────────┼─────────────────┤\n",
              "│ gru_1 (\u001b[38;5;33mGRU\u001b[0m)                          │ (\u001b[38;5;45mNone\u001b[0m, \u001b[38;5;34m1\u001b[0m, \u001b[38;5;34m8\u001b[0m)                │             \u001b[38;5;34m624\u001b[0m │\n",
              "├──────────────────────────────────────┼─────────────────────────────┼─────────────────┤\n",
              "│ gru_2 (\u001b[38;5;33mGRU\u001b[0m)                          │ (\u001b[38;5;45mNone\u001b[0m, \u001b[38;5;34m1\u001b[0m, \u001b[38;5;34m8\u001b[0m)                │             \u001b[38;5;34m432\u001b[0m │\n",
              "├──────────────────────────────────────┼─────────────────────────────┼─────────────────┤\n",
              "│ time_distributed (\u001b[38;5;33mTimeDistributed\u001b[0m)   │ (\u001b[38;5;45mNone\u001b[0m, \u001b[38;5;34m1\u001b[0m, \u001b[38;5;34m1\u001b[0m)                │               \u001b[38;5;34m9\u001b[0m │\n",
              "└──────────────────────────────────────┴─────────────────────────────┴─────────────────┘\n"
            ]
          },
          "metadata": {},
          "output_type": "display_data"
        },
        {
          "data": {
            "text/html": [
              "<pre style=\"white-space:pre;overflow-x:auto;line-height:normal;font-family:Menlo,'DejaVu Sans Mono',consolas,'Courier New',monospace\"><span style=\"font-weight: bold\"> Total params: </span><span style=\"color: #00af00; text-decoration-color: #00af00\">1,977</span> (7.72 KB)\n",
              "</pre>\n"
            ],
            "text/plain": [
              "\u001b[1m Total params: \u001b[0m\u001b[38;5;34m1,977\u001b[0m (7.72 KB)\n"
            ]
          },
          "metadata": {},
          "output_type": "display_data"
        },
        {
          "data": {
            "text/html": [
              "<pre style=\"white-space:pre;overflow-x:auto;line-height:normal;font-family:Menlo,'DejaVu Sans Mono',consolas,'Courier New',monospace\"><span style=\"font-weight: bold\"> Trainable params: </span><span style=\"color: #00af00; text-decoration-color: #00af00\">1,977</span> (7.72 KB)\n",
              "</pre>\n"
            ],
            "text/plain": [
              "\u001b[1m Trainable params: \u001b[0m\u001b[38;5;34m1,977\u001b[0m (7.72 KB)\n"
            ]
          },
          "metadata": {},
          "output_type": "display_data"
        },
        {
          "data": {
            "text/html": [
              "<pre style=\"white-space:pre;overflow-x:auto;line-height:normal;font-family:Menlo,'DejaVu Sans Mono',consolas,'Courier New',monospace\"><span style=\"font-weight: bold\"> Non-trainable params: </span><span style=\"color: #00af00; text-decoration-color: #00af00\">0</span> (0.00 B)\n",
              "</pre>\n"
            ],
            "text/plain": [
              "\u001b[1m Non-trainable params: \u001b[0m\u001b[38;5;34m0\u001b[0m (0.00 B)\n"
            ]
          },
          "metadata": {},
          "output_type": "display_data"
        },
        {
          "name": "stdout",
          "output_type": "stream",
          "text": [
            "None\n"
          ]
        }
      ],
      "source": [
        "import numpy as np\n",
        "import matplotlib.pyplot as plt\n",
        "from sklearn.metrics import mean_squared_error\n",
        "import tensorflow as tf\n",
        "from tensorflow.keras.models import Sequential\n",
        "from tensorflow.keras.layers import Dense, GRU, RepeatVector, TimeDistributed\n",
        "from tensorflow.keras.optimizers import RMSprop\n",
        "\n",
        "def build_seq2seq_model(look_ahead=1, look_back=10):\n",
        "    m = Sequential()\n",
        "    # Define the input shape in the first layer\n",
        "    m.add(GRU(16, input_shape=(look_back, 1), return_sequences=False))\n",
        "    m.add(RepeatVector(look_ahead))\n",
        "    m.add(GRU(8, return_sequences=True))\n",
        "    m.add(GRU(8, return_sequences=True))\n",
        "    m.add(TimeDistributed(Dense(1)))\n",
        "    m.compile(loss='mse', optimizer='rmsprop', metrics=[tf.keras.metrics.MeanAbsolutePercentageError()])\n",
        "    return m\n",
        "\n",
        "# Example of usage\n",
        "look_ahead = 1\n",
        "look_back = 10  # Ensure this matches the look_back parameter in create_datasets\n",
        "model = build_seq2seq_model(look_ahead=look_ahead, look_back=look_back)\n",
        "print(model.summary())\n"
      ]
    },
    {
      "cell_type": "code",
      "execution_count": null,
      "metadata": {
        "colab": {
          "base_uri": "https://localhost:8080/",
          "height": 1000
        },
        "id": "Ccew_L8IFW1M",
        "outputId": "e1b85067-41e0-420c-d2b8-f69bd84e9139"
      },
      "outputs": [
        {
          "data": {
            "image/png": "[encoded data removed]",
            "text/plain": [
              "<Figure size 1000x600 with 1 Axes>"
            ]
          },
          "metadata": {},
          "output_type": "display_data"
        },
        {
          "metadata": {
            "tags": null
          },
          "name": "stderr",
          "output_type": "stream",
          "text": [
            "/usr/local/lib/python3.10/dist-packages/keras/src/layers/rnn/rnn.py:204: UserWarning: Do not pass an `input_shape`/`input_dim` argument to a layer. When using Sequential models, prefer using an `Input(shape)` object as the first layer in the model instead.\n",
            "  super().__init__(**kwargs)\n"
          ]
        },
        {
          "output_type": "stream",
          "name": "stdout",
          "text": [
            "Epoch 1/20\n",
            "\u001b[1m10256/10256\u001b[0m \u001b[32m━━━━━━━━━━━━━━━━━━━━\u001b[0m\u001b[37m\u001b[0m \u001b[1m267s\u001b[0m 26ms/step - loss: 39955791872.0000 - mean_absolute_percentage_error: 99.9783 - val_loss: 128913203200.0000 - val_mean_absolute_percentage_error: 99.9492\n",
            "Epoch 2/20\n",
            "\u001b[1m10256/10256\u001b[0m \u001b[32m━━━━━━━━━━━━━━━━━━━━\u001b[0m\u001b[37m\u001b[0m \u001b[1m325s\u001b[0m 26ms/step - loss: 40046317568.0000 - mean_absolute_percentage_error: 99.9220 - val_loss: 128864231424.0000 - val_mean_absolute_percentage_error: 99.9003\n",
            "Epoch 3/20\n",
            "\u001b[1m10256/10256\u001b[0m \u001b[32m━━━━━━━━━━━━━━━━━━━━\u001b[0m\u001b[37m\u001b[0m \u001b[1m320s\u001b[0m 26ms/step - loss: 39910375424.0000 - mean_absolute_percentage_error: 99.8636 - val_loss: 128815415296.0000 - val_mean_absolute_percentage_error: 99.8515\n",
            "Epoch 4/20\n",
            "\u001b[1m10256/10256\u001b[0m \u001b[32m━━━━━━━━━━━━━━━━━━━━\u001b[0m\u001b[37m\u001b[0m \u001b[1m287s\u001b[0m 28ms/step - loss: 39943647232.0000 - mean_absolute_percentage_error: 99.8048 - val_loss: 128766623744.0000 - val_mean_absolute_percentage_error: 99.8023\n",
            "Epoch 5/20\n",
            "\u001b[1m10256/10256\u001b[0m \u001b[32m━━━━━━━━━━━━━━━━━━━━\u001b[0m\u001b[37m\u001b[0m \u001b[1m297s\u001b[0m 26ms/step - loss: 39850172416.0000 - mean_absolute_percentage_error: 99.7447 - val_loss: 128717692928.0000 - val_mean_absolute_percentage_error: 99.7534\n",
            "Epoch 6/20\n",
            "\u001b[1m10256/10256\u001b[0m \u001b[32m━━━━━━━━━━━━━━━━━━━━\u001b[0m\u001b[37m\u001b[0m \u001b[1m321s\u001b[0m 25ms/step - loss: 39797309440.0000 - mean_absolute_percentage_error: 99.6853 - val_loss: 128668934144.0000 - val_mean_absolute_percentage_error: 99.7044\n",
            "Epoch 7/20\n",
            "\u001b[1m10256/10256\u001b[0m \u001b[32m━━━━━━━━━━━━━━━━━━━━\u001b[0m\u001b[37m\u001b[0m \u001b[1m265s\u001b[0m 26ms/step - loss: 39820386304.0000 - mean_absolute_percentage_error: 99.6259 - val_loss: 128619978752.0000 - val_mean_absolute_percentage_error: 99.6554\n",
            "Epoch 8/20\n",
            "\u001b[1m10256/10256\u001b[0m \u001b[32m━━━━━━━━━━━━━━━━━━━━\u001b[0m\u001b[37m\u001b[0m \u001b[1m321s\u001b[0m 26ms/step - loss: 39764389888.0000 - mean_absolute_percentage_error: 99.5663 - val_loss: 128571367424.0000 - val_mean_absolute_percentage_error: 99.6063\n",
            "Epoch 9/20\n",
            "\u001b[1m10256/10256\u001b[0m \u001b[32m━━━━━━━━━━━━━━━━━━━━\u001b[0m\u001b[37m\u001b[0m \u001b[1m313s\u001b[0m 25ms/step - loss: 39697391616.0000 - mean_absolute_percentage_error: 99.5062 - val_loss: 128522452992.0000 - val_mean_absolute_percentage_error: 99.5575\n",
            "Epoch 10/20\n",
            "\u001b[1m10256/10256\u001b[0m \u001b[32m━━━━━━━━━━━━━━━━━━━━\u001b[0m\u001b[37m\u001b[0m \u001b[1m276s\u001b[0m 26ms/step - loss: 39757352960.0000 - mean_absolute_percentage_error: 99.4480 - val_loss: 128473784320.0000 - val_mean_absolute_percentage_error: 99.5082\n",
            "Epoch 11/20\n",
            "\u001b[1m10256/10256\u001b[0m \u001b[32m━━━━━━━━━━━━━━━━━━━━\u001b[0m\u001b[37m\u001b[0m \u001b[1m319s\u001b[0m 26ms/step - loss: 39676809216.0000 - mean_absolute_percentage_error: 99.3874 - val_loss: 128425009152.0000 - val_mean_absolute_percentage_error: 99.4594\n",
            "Epoch 12/20\n",
            "\u001b[1m10256/10256\u001b[0m \u001b[32m━━━━━━━━━━━━━━━━━━━━\u001b[0m\u001b[37m\u001b[0m \u001b[1m330s\u001b[0m 27ms/step - loss: 39587889152.0000 - mean_absolute_percentage_error: 99.3278 - val_loss: 128376217600.0000 - val_mean_absolute_percentage_error: 99.4105\n",
            "Epoch 13/20\n",
            "\u001b[1m10256/10256\u001b[0m \u001b[32m━━━━━━━━━━━━━━━━━━━━\u001b[0m\u001b[37m\u001b[0m \u001b[1m316s\u001b[0m 26ms/step - loss: 39526871040.0000 - mean_absolute_percentage_error: 99.2676 - val_loss: 128327548928.0000 - val_mean_absolute_percentage_error: 99.3615\n",
            "Epoch 14/20\n",
            "\u001b[1m10256/10256\u001b[0m \u001b[32m━━━━━━━━━━━━━━━━━━━━\u001b[0m\u001b[37m\u001b[0m \u001b[1m323s\u001b[0m 26ms/step - loss: 39548817408.0000 - mean_absolute_percentage_error: 99.2090 - val_loss: 128278880256.0000 - val_mean_absolute_percentage_error: 99.3123\n",
            "Epoch 15/20\n",
            "\u001b[1m 6830/10256\u001b[0m \u001b[32m━━━━━━━━━━━━━\u001b[0m\u001b[37m━━━━━━━\u001b[0m \u001b[1m1:25\u001b[0m 25ms/step - loss: 39479767040.0000 - mean_absolute_percentage_error: 99.1534"
          ]
        }
      ],
      "source": [
        "import numpy as np\n",
        "import matplotlib.pyplot as plt\n",
        "import tensorflow as tf\n",
        "from tensorflow.keras.models import Sequential\n",
        "from tensorflow.keras.layers import GRU, RepeatVector, TimeDistributed, Dense\n",
        "from sklearn.metrics import mean_squared_error\n",
        "import math\n",
        "\n",
        "def read_data(path='/content/fdata_Timestep_1 .txt'):\n",
        "    with open(path) as f:\n",
        "        lines = f.read().splitlines()\n",
        "    series = np.array(list(map(int, lines)))\n",
        "    return series\n",
        "\n",
        "def train_test_split(dataset, train_frac):\n",
        "    train_size = int(len(dataset) * train_frac)\n",
        "    return dataset[:train_size], dataset[train_size:]\n",
        "\n",
        "def create_datasets(dataset, look_back=1, look_ahead=1):\n",
        "    data_x, data_y = [], []\n",
        "    for i in range(len(dataset) - look_back - look_ahead + 1):\n",
        "        window = dataset[i:(i + look_back)]\n",
        "        data_x.append(window)\n",
        "        data_y.append(dataset[i + look_back:i + look_back + look_ahead])\n",
        "    return np.array(data_x), np.array(data_y)\n",
        "\n",
        "def plot_series(time, series, format=\"-\", start=0, end=None, figsize=(10,6), xlabel=\"Time\", ylabel=\"Packets per Second\"):\n",
        "    plt.figure(figsize=figsize)\n",
        "    plt.plot(time[start:end], series[start:end], format)\n",
        "    plt.xlabel(xlabel)\n",
        "    plt.ylabel(ylabel)\n",
        "    plt.grid(True)\n",
        "    plt.show()\n",
        "\n",
        "def plot_hist(data, bins=20, xlabel=\"\", ylabel=\"\", title=\"\"):\n",
        "    plt.hist(data, bins, color='green', edgecolor='black')\n",
        "    plt.xlabel(xlabel)\n",
        "    plt.ylabel(ylabel)\n",
        "    plt.title(title)\n",
        "    plt.show()\n",
        "\n",
        "def build_seq2seq_model(look_ahead=1, look_back=10):\n",
        "    m = Sequential()\n",
        "    m.add(GRU(16, input_shape=(look_back, 1), return_sequences=False))\n",
        "    m.add(RepeatVector(look_ahead))\n",
        "    m.add(GRU(8, return_sequences=True))\n",
        "    m.add(GRU(8, return_sequences=True))\n",
        "    m.add(TimeDistributed(Dense(1)))\n",
        "    m.compile(loss='mse', optimizer='rmsprop', metrics=[tf.keras.metrics.MeanAbsolutePercentageError()])\n",
        "    return m\n",
        "\n",
        "def reverse_scale(data, mean, std):\n",
        "    for x in np.nditer(data, op_flags=['readwrite']):\n",
        "        x[...] = x * std + mean\n",
        "    return data\n",
        "\n",
        "def calculate_error(train_y, test_y, pred_train, pred_test):\n",
        "    train_y_flat = train_y.reshape(-1)\n",
        "    test_y_flat = test_y.reshape(-1)\n",
        "    pred_train_flat = pred_train.reshape(-1)\n",
        "    pred_test_flat = pred_test.reshape(-1)\n",
        "\n",
        "    test_score = math.sqrt(mean_squared_error(test_y_flat, pred_test_flat))\n",
        "    train_score = math.sqrt(mean_squared_error(train_y_flat, pred_train_flat))\n",
        "    return train_score, test_score\n",
        "\n",
        "def mean_absolute_percentage(y, y_pred):\n",
        "    return np.mean(np.abs((y - y_pred) / y)) * 100\n",
        "\n",
        "def plot_1_error(pred_test, test_y, er1):\n",
        "    plt.figure(figsize=(18, 13))\n",
        "    plt.plot(test_y, label=\"Observed\")\n",
        "    plt.plot(pred_test, color=\"red\", label=\"Predicted, MAPE: \" + str(round(er1, 5)) + \"%\")\n",
        "    plt.title(\"1 step ahead prediction\")\n",
        "    plt.ylabel(\"Number of Packets / minute\")\n",
        "    plt.legend(loc=1, fontsize=8, framealpha=0.8)\n",
        "    plt.show()\n",
        "\n",
        "def plot_4_errors(pred_test, test_y, er1, er2, er3, er4):\n",
        "    fig = plt.figure(1, (18, 13))\n",
        "    plt.subplot(221)\n",
        "    plt.plot(test_y[:, 0], label=\"Observed\")\n",
        "    plt.plot(pred_test[:, 0], color=\"red\", label=\"Predicted, MAPE: \" + str(round(er1, 5)) + \"%\")\n",
        "    plt.title(\"1 step ahead prediction\")\n",
        "    plt.ylabel(\"Number of Packets / minute\")\n",
        "    plt.legend(loc=1, fontsize=8, framealpha=0.8)\n",
        "\n",
        "    if test_y.shape[1] > 1:  # Ensure there are enough steps\n",
        "        plt.subplot(222)\n",
        "        if test_y.shape[1] > 3:\n",
        "            plt.plot(test_y[:, 3], color=\"red\", label=\"Predicted, MAPE: \" + str(round(er2, 5)) + \"%\")\n",
        "            plt.plot(test_y[:, 3], label=\"Observed\")\n",
        "            plt.title(\"4 step ahead prediction\")\n",
        "            plt.legend(loc=1, fontsize=8, framealpha=0.8)\n",
        "\n",
        "    if test_y.shape[1] > 7:  # Ensure there are enough steps\n",
        "        plt.subplot(223)\n",
        "        if test_y.shape[1] > 7:\n",
        "            plt.plot(test_y[:, 7], color=\"red\", label=\"Predicted, MAPE: \" + str(round(er3, 5)) + \"%\")\n",
        "            plt.plot(test_y[:, 7], label=\"Observed\")\n",
        "            plt.title(\"8 step ahead prediction\")\n",
        "            plt.legend(loc=1, fontsize=8, framealpha=0.8)\n",
        "\n",
        "    if test_y.shape[1] > 15:  # Ensure there are enough steps\n",
        "        plt.subplot(224)\n",
        "        if test_y.shape[1] > 15:\n",
        "            plt.plot(test_y[:, 15], color=\"red\", label=\"Predicted, MAPE: \" + str(round(er4, 5)) + \"%\")\n",
        "            plt.plot(test_y[:, 15], label=\"Observed\")\n",
        "            plt.title(\"16 step ahead prediction\")\n",
        "            plt.legend(loc=1, fontsize=8, framealpha=0.8)\n",
        "\n",
        "\n",
        "    plt.show()\n",
        "\n",
        "# Example Workflow\n",
        "# Assuming the data is already uploaded to Google Colab\n",
        "\n",
        "# Step 1: Load the data\n",
        "series = read_data()\n",
        "\n",
        "# Step 2: Plot the series (Optional)\n",
        "plot_series(range(len(series)), series)\n",
        "\n",
        "# Step 3: Split the data into training and testing sets\n",
        "train_data, test_data = train_test_split(series, 0.8)\n",
        "\n",
        "# Step 4: Create datasets for the model\n",
        "look_back = 10\n",
        "look_ahead = 16\n",
        "train_x, train_y = create_datasets(train_data, look_back, look_ahead)\n",
        "test_x, test_y = create_datasets(test_data, look_back, look_ahead)\n",
        "\n",
        "# Step 5: Build the model\n",
        "model = build_seq2seq_model(look_ahead, look_back)\n",
        "\n",
        "# Step 6: Train the model\n",
        "history = model.fit(train_x, train_y, epochs=20, batch_size=32, validation_data=(test_x, test_y), verbose=1)\n",
        "\n",
        "# Step 7: Make predictions\n",
        "pred_train = model.predict(train_x)\n",
        "pred_test = model.predict(test_x)\n",
        "\n",
        "# Step 8: Calculate and print errors\n",
        "train_score, test_score = calculate_error(train_y, test_y, pred_train, pred_test)\n",
        "print(f'Train Score: {train_score:.2f} RMSE')\n",
        "print(f'Test Score: {test_score:.2f} RMSE')\n",
        "\n",
        "# Step 9: Plot the prediction errors\n",
        "# For look_ahead=1, accessing index 0\n",
        "er1 = mean_absolute_percentage(test_y[:, 0], pred_test[:, 0])\n",
        "plot_1_error(pred_test[:, 0], test_y[:, 0], er1)\n",
        "\n",
        "# For look_ahead=16, accessing different indices for multi-step predictions\n",
        "if test_y.shape[1] > 1:  # Check if the test_y has more than 1 step ahead\n",
        "    er2 = mean_absolute_percentage(test_y[:, 3], pred_test[:, 3])\n",
        "    er3 = mean_absolute_percentage(test_y[:, 7], pred_test[:, 7])\n",
        "    er4 = mean_absolute_percentage(test_y[:, 15], pred_test[:, 15])\n",
        "    plot_4_errors(pred_test, test_y, er1, er2, er3, er4)\n",
        "else:\n",
        "    print(\"Not enough steps ahead in test_y and pred_test for multi-step error plotting.\")\n"
      ]
    },
    {
      "cell_type": "code",
      "source": [
        "import numpy as np\n",
        "import matplotlib.pyplot as plt\n",
        "import tensorflow as tf\n",
        "from tensorflow.keras.models import Sequential\n",
        "from tensorflow.keras.layers import LSTM, RepeatVector, TimeDistributed, Dense\n",
        "from sklearn.metrics import mean_squared_error\n",
        "import math\n",
        "\n",
        "def read_data (path = '/content/fdata_Timestep_60 (2).txt'):\n",
        "    with open(path) as f:\n",
        "        lines = f.read().splitlines()\n",
        "    series = np.array(list(map(int, lines)))\n",
        "    return series\n",
        "\n",
        "def train_test_split(dataset, train_frac):\n",
        "    train_size = int(len(dataset) * train_frac)\n",
        "    return dataset[:train_size], dataset[train_size:]\n",
        "\n",
        "def create_datasets(dataset, look_back=1, look_ahead=1):\n",
        "    data_x, data_y = [], []\n",
        "    for i in range(len(dataset) - look_back - look_ahead + 1):\n",
        "        window = dataset[i:(i + look_back)]\n",
        "        data_x.append(window)\n",
        "        data_y.append(dataset[i + look_back:i + look_back + look_ahead])\n",
        "    return np.array(data_x), np.array(data_y)\n",
        "\n",
        "def plot_series(time, series, format=\"-\", start=0, end=None, figsize=(10,6), xlabel=\"Time\", ylabel=\"Packets per Second\"):\n",
        "    plt.figure(figsize=figsize)\n",
        "    plt.plot(time[start:end], series[start:end], format)\n",
        "    plt.xlabel(xlabel)\n",
        "    plt.ylabel(ylabel)\n",
        "    plt.grid(True)\n",
        "    plt.show()\n",
        "\n",
        "def plot_hist(data, bins=20, xlabel=\"\", ylabel=\"\", title=\"\"):\n",
        "    plt.hist(data, bins, color='green', edgecolor='black')\n",
        "    plt.xlabel(xlabel)\n",
        "    plt.ylabel(ylabel)\n",
        "    plt.title(title)\n",
        "    plt.show()\n",
        "\n",
        "\n",
        "# Rest of the functions remain the same: read_data, train_test_split, create_datasets, plot_series, plot_hist\n",
        "\n",
        "def build_seq2seq_model_lstm(look_ahead=1, look_back=10):\n",
        "    model = Sequential()\n",
        "    model.add(LSTM(16, input_shape=(look_back, 1), return_sequences=False))\n",
        "    model.add(RepeatVector(look_ahead))\n",
        "    model.add(LSTM(8, return_sequences=True))\n",
        "    model.add(LSTM(8, return_sequences=True))\n",
        "    model.add(TimeDistributed(Dense(1)))\n",
        "    model.compile(loss='mse', optimizer='rmsprop', metrics=[tf.keras.metrics.MeanAbsolutePercentageError()])\n",
        "    return model\n",
        "\n",
        "# The function to calculate errors and plotting functions remain the same: reverse_scale, calculate_error, mean_absolute_percentage, plot_1_error, plot_4_errors\n",
        "\n",
        "# Example Workflow using LSTM model\n",
        "\n",
        "# Load the data\n",
        "series = read_data()\n",
        "\n",
        "# Plot the series (Optional)\n",
        "plot_series(range(len(series)), series)\n",
        "\n",
        "# Split the data into training and testing sets\n",
        "train_data, test_data = train_test_split(series, 0.8)\n",
        "\n",
        "# Create datasets for the model\n",
        "look_back = 10\n",
        "look_ahead = 16\n",
        "train_x, train_y = create_datasets(train_data, look_back, look_ahead)\n",
        "test_x, test_y = create_datasets(test_data, look_back, look_ahead)\n",
        "\n",
        "# Reshape data to fit LSTM input shape (samples, time steps, features)\n",
        "train_x = train_x.reshape((train_x.shape[0], train_x.shape[1], 1))\n",
        "test_x = test_x.reshape((test_x.shape[0], test_x.shape[1], 1))\n",
        "\n",
        "# Build the LSTM model\n",
        "model = build_seq2seq_model_lstm(look_ahead, look_back)\n",
        "\n",
        "# Train the model\n",
        "history = model.fit(train_x, train_y, epochs=20, batch_size=32, validation_data=(test_x, test_y), verbose=1)\n",
        "\n",
        "# Make predictions\n",
        "pred_train = model.predict(train_x)\n",
        "pred_test = model.predict(test_x)\n",
        "\n",
        "# Calculate and print errors\n",
        "train_score, test_score = calculate_error(train_y, test_y, pred_train, pred_test)\n",
        "print(f'Train Score: {train_score:.2f} RMSE')\n",
        "print(f'Test Score: {test_score:.2f} RMSE')\n",
        "\n",
        "# Plot the prediction errors for 1 step ahead\n",
        "er1 = mean_absolute_percentage(test_y[:, 0], pred_test[:, 0])\n",
        "plot_1_error(pred_test[:, 0], test_y[:, 0], er1)\n",
        "\n",
        "# For multi-step predictions, plotting if there are enough steps\n",
        "if test_y.shape[1] > 1:\n",
        "    er2 = mean_absolute_percentage(test_y[:, 3], pred_test[:, 3])\n",
        "    er3 = mean_absolute_percentage(test_y[:, 7], pred_test[:, 7])\n",
        "    er4 = mean_absolute_percentage(test_y[:, 15], pred_test[:, 15])\n",
        "    plot_4_errors(pred_test, test_y, er1, er2, er3, er4)\n",
        "else:\n",
        "    print(\"Not enough steps ahead in test_y and pred_test for multi-step error plotting.\")\n"
      ],
      "metadata": {
        "colab": {
          "base_uri": "https://localhost:8080/",
          "height": 1000
        },
        "id": "t2PVRrtcyarJ",
        "outputId": "3b125574-7075-4c6b-f047-70032b5032b0"
      },
      "execution_count": 3,
      "outputs": [
        {
          "output_type": "display_data",
          "data": {
            "text/plain": [
              "<Figure size 1000x600 with 1 Axes>"
            ],
            "image/png": "[encoded data removed]"
          },
          "metadata": {}
        },
        {
          "output_type": "stream",
          "name": "stderr",
          "text": [
            "/usr/local/lib/python3.10/dist-packages/keras/src/layers/rnn/rnn.py:204: UserWarning: Do not pass an `input_shape`/`input_dim` argument to a layer. When using Sequential models, prefer using an `Input(shape)` object as the first layer in the model instead.\n",
            "  super().__init__(**kwargs)\n"
          ]
        },
        {
          "output_type": "stream",
          "name": "stdout",
          "text": [
            "Epoch 1/20\n",
            "\u001b[1m171/171\u001b[0m \u001b[32m━━━━━━━━━━━━━━━━━━━━\u001b[0m\u001b[37m\u001b[0m \u001b[1m10s\u001b[0m 23ms/step - loss: 141561820086272.0000 - mean_absolute_percentage_error: 100.0000 - val_loss: 460940688490496.0000 - val_mean_absolute_percentage_error: 100.0000\n",
            "Epoch 2/20\n",
            "\u001b[1m171/171\u001b[0m \u001b[32m━━━━━━━━━━━━━━━━━━━━\u001b[0m\u001b[37m\u001b[0m \u001b[1m4s\u001b[0m 22ms/step - loss: 140821038891008.0000 - mean_absolute_percentage_error: 100.0000 - val_loss: 460940621381632.0000 - val_mean_absolute_percentage_error: 100.0000\n",
            "Epoch 3/20\n",
            "\u001b[1m171/171\u001b[0m \u001b[32m━━━━━━━━━━━━━━━━━━━━\u001b[0m\u001b[37m\u001b[0m \u001b[1m4s\u001b[0m 25ms/step - loss: 143495092240384.0000 - mean_absolute_percentage_error: 100.0000 - val_loss: 460940587827200.0000 - val_mean_absolute_percentage_error: 99.9999\n",
            "Epoch 4/20\n",
            "\u001b[1m171/171\u001b[0m \u001b[32m━━━━━━━━━━━━━━━━━━━━\u001b[0m\u001b[37m\u001b[0m \u001b[1m3s\u001b[0m 20ms/step - loss: 144748148948992.0000 - mean_absolute_percentage_error: 100.0000 - val_loss: 460940520718336.0000 - val_mean_absolute_percentage_error: 99.9999\n",
            "Epoch 5/20\n",
            "\u001b[1m171/171\u001b[0m \u001b[32m━━━━━━━━━━━━━━━━━━━━\u001b[0m\u001b[37m\u001b[0m \u001b[1m3s\u001b[0m 19ms/step - loss: 145024083820544.0000 - mean_absolute_percentage_error: 100.0000 - val_loss: 460940453609472.0000 - val_mean_absolute_percentage_error: 99.9999\n",
            "Epoch 6/20\n",
            "\u001b[1m171/171\u001b[0m \u001b[32m━━━━━━━━━━━━━━━━━━━━\u001b[0m\u001b[37m\u001b[0m \u001b[1m6s\u001b[0m 27ms/step - loss: 140833420476416.0000 - mean_absolute_percentage_error: 99.9999 - val_loss: 460940420055040.0000 - val_mean_absolute_percentage_error: 99.9999\n",
            "Epoch 7/20\n",
            "\u001b[1m171/171\u001b[0m \u001b[32m━━━━━━━━━━━━━━━━━━━━\u001b[0m\u001b[37m\u001b[0m \u001b[1m4s\u001b[0m 19ms/step - loss: 140936180924416.0000 - mean_absolute_percentage_error: 99.9999 - val_loss: 460940352946176.0000 - val_mean_absolute_percentage_error: 99.9999\n",
            "Epoch 8/20\n",
            "\u001b[1m171/171\u001b[0m \u001b[32m━━━━━━━━━━━━━━━━━━━━\u001b[0m\u001b[37m\u001b[0m \u001b[1m3s\u001b[0m 19ms/step - loss: 142392141283328.0000 - mean_absolute_percentage_error: 99.9999 - val_loss: 460940319391744.0000 - val_mean_absolute_percentage_error: 99.9999\n",
            "Epoch 9/20\n",
            "\u001b[1m171/171\u001b[0m \u001b[32m━━━━━━━━━━━━━━━━━━━━\u001b[0m\u001b[37m\u001b[0m \u001b[1m7s\u001b[0m 28ms/step - loss: 142197827567616.0000 - mean_absolute_percentage_error: 99.9999 - val_loss: 460940218728448.0000 - val_mean_absolute_percentage_error: 99.9999\n",
            "Epoch 10/20\n",
            "\u001b[1m171/171\u001b[0m \u001b[32m━━━━━━━━━━━━━━━━━━━━\u001b[0m\u001b[37m\u001b[0m \u001b[1m3s\u001b[0m 20ms/step - loss: 143623337279488.0000 - mean_absolute_percentage_error: 99.9999 - val_loss: 460940151619584.0000 - val_mean_absolute_percentage_error: 99.9998\n",
            "Epoch 11/20\n",
            "\u001b[1m171/171\u001b[0m \u001b[32m━━━━━━━━━━━━━━━━━━━━\u001b[0m\u001b[37m\u001b[0m \u001b[1m3s\u001b[0m 20ms/step - loss: 141035820810240.0000 - mean_absolute_percentage_error: 99.9999 - val_loss: 460940151619584.0000 - val_mean_absolute_percentage_error: 99.9998\n",
            "Epoch 12/20\n",
            "\u001b[1m171/171\u001b[0m \u001b[32m━━━━━━━━━━━━━━━━━━━━\u001b[0m\u001b[37m\u001b[0m \u001b[1m6s\u001b[0m 25ms/step - loss: 141268151697408.0000 - mean_absolute_percentage_error: 99.9999 - val_loss: 460940118065152.0000 - val_mean_absolute_percentage_error: 99.9998\n",
            "Epoch 13/20\n",
            "\u001b[1m171/171\u001b[0m \u001b[32m━━━━━━━━━━━━━━━━━━━━\u001b[0m\u001b[37m\u001b[0m \u001b[1m4s\u001b[0m 20ms/step - loss: 141324388925440.0000 - mean_absolute_percentage_error: 99.9998 - val_loss: 460940017401856.0000 - val_mean_absolute_percentage_error: 99.9998\n",
            "Epoch 14/20\n",
            "\u001b[1m171/171\u001b[0m \u001b[32m━━━━━━━━━━━━━━━━━━━━\u001b[0m\u001b[37m\u001b[0m \u001b[1m5s\u001b[0m 20ms/step - loss: 144504040456192.0000 - mean_absolute_percentage_error: 99.9998 - val_loss: 460940017401856.0000 - val_mean_absolute_percentage_error: 99.9998\n",
            "Epoch 15/20\n",
            "\u001b[1m171/171\u001b[0m \u001b[32m━━━━━━━━━━━━━━━━━━━━\u001b[0m\u001b[37m\u001b[0m \u001b[1m6s\u001b[0m 24ms/step - loss: 144589872693248.0000 - mean_absolute_percentage_error: 99.9997 - val_loss: 460940017401856.0000 - val_mean_absolute_percentage_error: 99.9998\n",
            "Epoch 16/20\n",
            "\u001b[1m171/171\u001b[0m \u001b[32m━━━━━━━━━━━━━━━━━━━━\u001b[0m\u001b[37m\u001b[0m \u001b[1m4s\u001b[0m 20ms/step - loss: 141603243032576.0000 - mean_absolute_percentage_error: 99.9997 - val_loss: 460939950292992.0000 - val_mean_absolute_percentage_error: 99.9998\n",
            "Epoch 17/20\n",
            "\u001b[1m171/171\u001b[0m \u001b[32m━━━━━━━━━━━━━━━━━━━━\u001b[0m\u001b[37m\u001b[0m \u001b[1m3s\u001b[0m 20ms/step - loss: 142757364498432.0000 - mean_absolute_percentage_error: 99.9997 - val_loss: 460939916738560.0000 - val_mean_absolute_percentage_error: 99.9997\n",
            "Epoch 18/20\n",
            "\u001b[1m171/171\u001b[0m \u001b[32m━━━━━━━━━━━━━━━━━━━━\u001b[0m\u001b[37m\u001b[0m \u001b[1m5s\u001b[0m 27ms/step - loss: 142435963371520.0000 - mean_absolute_percentage_error: 99.9997 - val_loss: 460939849629696.0000 - val_mean_absolute_percentage_error: 99.9997\n",
            "Epoch 19/20\n",
            "\u001b[1m171/171\u001b[0m \u001b[32m━━━━━━━━━━━━━━━━━━━━\u001b[0m\u001b[37m\u001b[0m \u001b[1m3s\u001b[0m 19ms/step - loss: 140447385124864.0000 - mean_absolute_percentage_error: 99.9997 - val_loss: 460939816075264.0000 - val_mean_absolute_percentage_error: 99.9997\n",
            "Epoch 20/20\n",
            "\u001b[1m171/171\u001b[0m \u001b[32m━━━━━━━━━━━━━━━━━━━━\u001b[0m\u001b[37m\u001b[0m \u001b[1m5s\u001b[0m 20ms/step - loss: 143122671599616.0000 - mean_absolute_percentage_error: 99.9997 - val_loss: 460939748966400.0000 - val_mean_absolute_percentage_error: 99.9997\n",
            "\u001b[1m171/171\u001b[0m \u001b[32m━━━━━━━━━━━━━━━━━━━━\u001b[0m\u001b[37m\u001b[0m \u001b[1m2s\u001b[0m 11ms/step\n",
            "\u001b[1m42/42\u001b[0m \u001b[32m━━━━━━━━━━━━━━━━━━━━\u001b[0m\u001b[37m\u001b[0m \u001b[1m0s\u001b[0m 5ms/step\n"
          ]
        },
        {
          "output_type": "error",
          "ename": "NameError",
          "evalue": "name 'calculate_error' is not defined",
          "traceback": [
            "\u001b[0;31m---------------------------------------------------------------------------\u001b[0m",
            "\u001b[0;31mNameError\u001b[0m                                 Traceback (most recent call last)",
            "\u001b[0;32m<ipython-input-3-472fef13490b>\u001b[0m in \u001b[0;36m<cell line: 89>\u001b[0;34m()\u001b[0m\n\u001b[1;32m     87\u001b[0m \u001b[0;34m\u001b[0m\u001b[0m\n\u001b[1;32m     88\u001b[0m \u001b[0;31m# Calculate and print errors\u001b[0m\u001b[0;34m\u001b[0m\u001b[0;34m\u001b[0m\u001b[0m\n\u001b[0;32m---> 89\u001b[0;31m \u001b[0mtrain_score\u001b[0m\u001b[0;34m,\u001b[0m \u001b[0mtest_score\u001b[0m \u001b[0;34m=\u001b[0m \u001b[0mcalculate_error\u001b[0m\u001b[0;34m(\u001b[0m\u001b[0mtrain_y\u001b[0m\u001b[0;34m,\u001b[0m \u001b[0mtest_y\u001b[0m\u001b[0;34m,\u001b[0m \u001b[0mpred_train\u001b[0m\u001b[0;34m,\u001b[0m \u001b[0mpred_test\u001b[0m\u001b[0;34m)\u001b[0m\u001b[0;34m\u001b[0m\u001b[0;34m\u001b[0m\u001b[0m\n\u001b[0m\u001b[1;32m     90\u001b[0m \u001b[0mprint\u001b[0m\u001b[0;34m(\u001b[0m\u001b[0;34mf'Train Score: {train_score:.2f} RMSE'\u001b[0m\u001b[0;34m)\u001b[0m\u001b[0;34m\u001b[0m\u001b[0;34m\u001b[0m\u001b[0m\n\u001b[1;32m     91\u001b[0m \u001b[0mprint\u001b[0m\u001b[0;34m(\u001b[0m\u001b[0;34mf'Test Score: {test_score:.2f} RMSE'\u001b[0m\u001b[0;34m)\u001b[0m\u001b[0;34m\u001b[0m\u001b[0;34m\u001b[0m\u001b[0m\n",
            "\u001b[0;31mNameError\u001b[0m: name 'calculate_error' is not defined"
          ]
        }
      ]
    },
    {
      "cell_type": "code",
      "source": [
        "import pandas as pd\n",
        "import matplotlib.pyplot as plt\n",
        "import seaborn as sns\n",
        "\n",
        "# Load the dataset\n",
        "data = pd.read_csv('/content/benchmark_final (2).csv')\n",
        "\n",
        "# Assuming 'time_series_column' represents the aggregated traffic per minute, replace with actual column name if known\n",
        "time_series_column = 'MAPE: 1 Step'  # Placeholder - replace with actual traffic volume column name\n",
        "time_col = 'timestamp'  # Placeholder - replace with actual timestamp column name if available\n",
        "\n",
        "# If the dataset has a time column, parse it for time-based analysis\n",
        "if time_col in data.columns:\n",
        "    data[time_col] = pd.to_datetime(data[time_col])\n",
        "    data.set_index(time_col, inplace=True)\n",
        "\n",
        "# Plot the overall traffic trend\n",
        "plt.figure(figsize=(14, 6))\n",
        "plt.plot(data.index, data[time_series_column], color='blue')\n",
        "plt.title(\"Traffic Volume Over Time\")\n",
        "plt.xlabel(\"Time\")\n",
        "plt.ylabel(\"Traffic Volume (e.g., packets/min)\")\n",
        "plt.grid(True)\n",
        "plt.show()\n",
        "\n",
        "# Seasonality Check - Weekly/Hourly Aggregation\n",
        "data['hour'] = data.index.hour\n",
        "data['day_of_week'] = data.index.dayofweek\n",
        "\n",
        "# Average traffic by hour of the day\n",
        "plt.figure(figsize=(10, 5))\n",
        "hourly_avg = data.groupby('hour')[time_series_column].mean()\n",
        "hourly_avg.plot(kind='bar', color='skyblue')\n",
        "plt.title(\"Average Traffic Volume by Hour of Day\")\n",
        "plt.xlabel(\"Hour of Day\")\n",
        "plt.ylabel(\"Average Traffic Volume\")\n",
        "plt.show()\n",
        "\n",
        "# Average traffic by day of the week\n",
        "plt.figure(figsize=(10, 5))\n",
        "daily_avg = data.groupby('day_of_week')[time_series_column].mean()\n",
        "daily_avg.plot(kind='bar', color='salmon')\n",
        "plt.title(\"Average Traffic Volume by Day of the Week\")\n",
        "plt.xlabel(\"Day of the Week (0=Monday, 6=Sunday)\")\n",
        "plt.ylabel(\"Average Traffic Volume\")\n",
        "plt.show()\n",
        "\n",
        "# Moving Average for Smoothing\n",
        "data['Moving_Avg'] = data[time_series_column].rolling(window=60, min_periods=1).mean()  # 60-minute moving average\n",
        "plt.figure(figsize=(14, 6))\n",
        "plt.plot(data.index, data[time_series_column], label=\"Original\", alpha=0.5)\n",
        "plt.plot(data.index, data['Moving_Avg'], label=\"60-Min Moving Average\", color='orange')\n",
        "plt.title(\"Traffic Volume with Moving Average Smoothing\")\n",
        "plt.xlabel(\"Time\")\n",
        "plt.ylabel(\"Traffic Volume\")\n",
        "plt.legend()\n",
        "plt.show()\n",
        "\n",
        "# Check correlations across prediction steps, if applicable\n",
        "mape_columns = [col for col in data.columns if 'MAPE' in col]\n",
        "plt.figure(figsize=(12, 8))\n",
        "sns.heatmap(data[mape_columns].corr(), annot=True, cmap='coolwarm', fmt=\".2f\")\n",
        "plt.title(\"Correlation Between Prediction Steps\")\n",
        "plt.show()\n"
      ],
      "metadata": {
        "id": "FstvrFdv5dRX"
      },
      "execution_count": null,
      "outputs": []
    }
  ],
  "metadata": {
    "colab": {
      "provenance": []
    },
    "kernelspec": {
      "display_name": "Python 3",
      "name": "python3"
    },
    "language_info": {
      "name": "python"
    }
  },
  "nbformat": 4,
  "nbformat_minor": 0
}